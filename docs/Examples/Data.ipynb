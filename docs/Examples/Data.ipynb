{
 "cells": [
  {
   "cell_type": "markdown",
   "metadata": {},
   "source": [
    "For this demo, let's use the toy examples from the **SandBonx** folder with some dummy scripts.\n",
    "\n",
    "## **DataFrame of imported modules**\n",
    "\n",
    "The **df** attribute in the **Data**, **DataAnalyzer**, and **DataPlotter** classes retrieves the unprocessed data from the import statements in the dummy scripts."
   ]
  },
  {
   "cell_type": "code",
   "execution_count": 1,
   "metadata": {},
   "outputs": [
    {
     "name": "stdout",
     "output_type": "stream",
     "text": [
      "Number of imports found: 10\n",
      "Packages: ['sys', 'os', 'math', 'my_scripts', 'matplotlib', 'module1', 're', 'numpy']\n"
     ]
    },
    {
     "data": {
      "text/html": [
       "<div>\n",
       "<style scoped>\n",
       "    .dataframe tbody tr th:only-of-type {\n",
       "        vertical-align: middle;\n",
       "    }\n",
       "\n",
       "    .dataframe tbody tr th {\n",
       "        vertical-align: top;\n",
       "    }\n",
       "\n",
       "    .dataframe thead th {\n",
       "        text-align: right;\n",
       "    }\n",
       "</style>\n",
       "<table border=\"1\" class=\"dataframe\">\n",
       "  <thead>\n",
       "    <tr style=\"text-align: right;\">\n",
       "      <th></th>\n",
       "      <th>imported_0</th>\n",
       "      <th>imported_1</th>\n",
       "      <th>alias</th>\n",
       "      <th>directory</th>\n",
       "      <th>extension</th>\n",
       "      <th>file</th>\n",
       "      <th>filename</th>\n",
       "      <th>original</th>\n",
       "      <th>path</th>\n",
       "    </tr>\n",
       "  </thead>\n",
       "  <tbody>\n",
       "    <tr>\n",
       "      <th>0</th>\n",
       "      <td>sys</td>\n",
       "      <td>NaN</td>\n",
       "      <td></td>\n",
       "      <td>../SandBox</td>\n",
       "      <td>py</td>\n",
       "      <td>module1.py</td>\n",
       "      <td>module1</td>\n",
       "      <td>import sys, os</td>\n",
       "      <td>../SandBox\\module1.py</td>\n",
       "    </tr>\n",
       "    <tr>\n",
       "      <th>1</th>\n",
       "      <td>os</td>\n",
       "      <td>NaN</td>\n",
       "      <td></td>\n",
       "      <td>../SandBox</td>\n",
       "      <td>py</td>\n",
       "      <td>module1.py</td>\n",
       "      <td>module1</td>\n",
       "      <td>import sys, os</td>\n",
       "      <td>../SandBox\\module1.py</td>\n",
       "    </tr>\n",
       "    <tr>\n",
       "      <th>2</th>\n",
       "      <td>math</td>\n",
       "      <td>NaN</td>\n",
       "      <td></td>\n",
       "      <td>../SandBox</td>\n",
       "      <td>py</td>\n",
       "      <td>module1.py</td>\n",
       "      <td>module1</td>\n",
       "      <td>import math</td>\n",
       "      <td>../SandBox\\module1.py</td>\n",
       "    </tr>\n",
       "    <tr>\n",
       "      <th>3</th>\n",
       "      <td>my_scripts</td>\n",
       "      <td>lookup_dir</td>\n",
       "      <td>look</td>\n",
       "      <td>../SandBox</td>\n",
       "      <td>py</td>\n",
       "      <td>module2.py</td>\n",
       "      <td>module2</td>\n",
       "      <td>from my_scripts import lookup_dir as look</td>\n",
       "      <td>../SandBox\\module2.py</td>\n",
       "    </tr>\n",
       "    <tr>\n",
       "      <th>4</th>\n",
       "      <td>matplotlib</td>\n",
       "      <td>pyplot</td>\n",
       "      <td>plt</td>\n",
       "      <td>../SandBox</td>\n",
       "      <td>py</td>\n",
       "      <td>module2.py</td>\n",
       "      <td>module2</td>\n",
       "      <td>import matplotlib.pyplot as plt</td>\n",
       "      <td>../SandBox\\module2.py</td>\n",
       "    </tr>\n",
       "    <tr>\n",
       "      <th>5</th>\n",
       "      <td>module1</td>\n",
       "      <td>Class_1</td>\n",
       "      <td></td>\n",
       "      <td>../SandBox</td>\n",
       "      <td>py</td>\n",
       "      <td>module2.py</td>\n",
       "      <td>module2</td>\n",
       "      <td>from module1 import Class_1</td>\n",
       "      <td>../SandBox\\module2.py</td>\n",
       "    </tr>\n",
       "    <tr>\n",
       "      <th>6</th>\n",
       "      <td>sys</td>\n",
       "      <td>NaN</td>\n",
       "      <td></td>\n",
       "      <td>../SandBox\\folder_1</td>\n",
       "      <td>py</td>\n",
       "      <td>module3.py</td>\n",
       "      <td>module3</td>\n",
       "      <td>import sys, os</td>\n",
       "      <td>../SandBox\\folder_1\\module3.py</td>\n",
       "    </tr>\n",
       "    <tr>\n",
       "      <th>7</th>\n",
       "      <td>os</td>\n",
       "      <td>NaN</td>\n",
       "      <td></td>\n",
       "      <td>../SandBox\\folder_1</td>\n",
       "      <td>py</td>\n",
       "      <td>module3.py</td>\n",
       "      <td>module3</td>\n",
       "      <td>import sys, os</td>\n",
       "      <td>../SandBox\\folder_1\\module3.py</td>\n",
       "    </tr>\n",
       "    <tr>\n",
       "      <th>8</th>\n",
       "      <td>re</td>\n",
       "      <td>NaN</td>\n",
       "      <td></td>\n",
       "      <td>../SandBox\\folder_1</td>\n",
       "      <td>py</td>\n",
       "      <td>module3.py</td>\n",
       "      <td>module3</td>\n",
       "      <td>import re</td>\n",
       "      <td>../SandBox\\folder_1\\module3.py</td>\n",
       "    </tr>\n",
       "    <tr>\n",
       "      <th>9</th>\n",
       "      <td>numpy</td>\n",
       "      <td>NaN</td>\n",
       "      <td>np</td>\n",
       "      <td>../SandBox\\folder_1</td>\n",
       "      <td>py</td>\n",
       "      <td>module3.py</td>\n",
       "      <td>module3</td>\n",
       "      <td>import numpy as np</td>\n",
       "      <td>../SandBox\\folder_1\\module3.py</td>\n",
       "    </tr>\n",
       "  </tbody>\n",
       "</table>\n",
       "</div>"
      ],
      "text/plain": [
       "   imported_0  imported_1 alias            directory extension        file  \\\n",
       "0         sys         NaN                 ../SandBox        py  module1.py   \n",
       "1          os         NaN                 ../SandBox        py  module1.py   \n",
       "2        math         NaN                 ../SandBox        py  module1.py   \n",
       "3  my_scripts  lookup_dir  look           ../SandBox        py  module2.py   \n",
       "4  matplotlib      pyplot   plt           ../SandBox        py  module2.py   \n",
       "5     module1     Class_1                 ../SandBox        py  module2.py   \n",
       "6         sys         NaN        ../SandBox\\folder_1        py  module3.py   \n",
       "7          os         NaN        ../SandBox\\folder_1        py  module3.py   \n",
       "8          re         NaN        ../SandBox\\folder_1        py  module3.py   \n",
       "9       numpy         NaN    np  ../SandBox\\folder_1        py  module3.py   \n",
       "\n",
       "  filename                                   original  \\\n",
       "0  module1                             import sys, os   \n",
       "1  module1                             import sys, os   \n",
       "2  module1                                import math   \n",
       "3  module2  from my_scripts import lookup_dir as look   \n",
       "4  module2            import matplotlib.pyplot as plt   \n",
       "5  module2                from module1 import Class_1   \n",
       "6  module3                             import sys, os   \n",
       "7  module3                             import sys, os   \n",
       "8  module3                                  import re   \n",
       "9  module3                         import numpy as np   \n",
       "\n",
       "                             path  \n",
       "0           ../SandBox\\module1.py  \n",
       "1           ../SandBox\\module1.py  \n",
       "2           ../SandBox\\module1.py  \n",
       "3           ../SandBox\\module2.py  \n",
       "4           ../SandBox\\module2.py  \n",
       "5           ../SandBox\\module2.py  \n",
       "6  ../SandBox\\folder_1\\module3.py  \n",
       "7  ../SandBox\\folder_1\\module3.py  \n",
       "8  ../SandBox\\folder_1\\module3.py  \n",
       "9  ../SandBox\\folder_1\\module3.py  "
      ]
     },
     "execution_count": 1,
     "metadata": {},
     "output_type": "execute_result"
    }
   ],
   "source": [
    "from ScanPyImports.plotter import DataPlotter\n",
    "plotter = DataPlotter('../SandBox')\n",
    "df = plotter.df \n",
    "\n",
    "print('Number of imports found:', len(df))\n",
    "print('Packages:', df.imported_0.unique().tolist())\n",
    "df.head(len(df))"
   ]
  },
  {
   "cell_type": "markdown",
   "metadata": {},
   "source": [
    "For a brief description of the columns in the DataFrame, see [DataPlotter.df](/Api/plotter/#ScanPyImports.plotter.DataPlotter.df\n",
    ").\n",
    "\n",
    "In this example:\n",
    "- **module1** is a own-created module, which is a `py` script being imported by another script (`module2`) located in the same directory.\n",
    "- All other packages are external packages."
   ]
  },
  {
   "cell_type": "markdown",
   "metadata": {},
   "source": [
    "## Frequencies\n",
    "To get the frequencies of the packages being imported, one can call the **get_frequencies()** function in the DataAnalyzer or DataPlotter class."
   ]
  },
  {
   "cell_type": "code",
   "execution_count": 2,
   "metadata": {},
   "outputs": [
    {
     "data": {
      "text/plain": [
       "Imports\n",
       "os            3\n",
       "sys           3\n",
       "math          2\n",
       "matplotlib    1\n",
       "my_scripts    1\n",
       "numpy         1\n",
       "re            1\n",
       "dtype: int64"
      ]
     },
     "execution_count": 2,
     "metadata": {},
     "output_type": "execute_result"
    }
   ],
   "source": [
    "plotter.get_frequencies()\n",
    " "
   ]
  },
  {
   "cell_type": "markdown",
   "metadata": {},
   "source": [
    "### The `process_own_modules` parameter\n",
    "By default own-created modules are processed --- for more information see: [`own_processed_df`](plotter.md#ScanPyImports.plotter.DataPlotter.own_processed_df)\n",
    "\n",
    "For getting the frequencies without processing own-created modules, set the argument `process_own_modules` to `False`"
   ]
  },
  {
   "cell_type": "code",
   "execution_count": 3,
   "metadata": {},
   "outputs": [
    {
     "data": {
      "text/plain": [
       "Imports\n",
       "os            2\n",
       "sys           2\n",
       "math          1\n",
       "matplotlib    1\n",
       "module1       1\n",
       "my_scripts    1\n",
       "numpy         1\n",
       "re            1\n",
       "dtype: int64"
      ]
     },
     "execution_count": 3,
     "metadata": {},
     "output_type": "execute_result"
    }
   ],
   "source": [
    "plotter.get_frequencies(process_own_modules=False)"
   ]
  },
  {
   "cell_type": "markdown",
   "metadata": {},
   "source": [
    "### The `exclude` parameter\n",
    "To exclude some modules from the frequency analysis, you can assign a list of package names to the `to_exclude` attribute."
   ]
  },
  {
   "cell_type": "code",
   "execution_count": 4,
   "metadata": {},
   "outputs": [],
   "source": [
    "plotter.to_exclude = ['my_scripts']"
   ]
  },
  {
   "cell_type": "markdown",
   "metadata": {},
   "source": [
    "By default, the `get_frequencies()` method excludes the packages listed in `to_exclude` when calculating the frequencies. \n",
    "\n",
    "Thus, `my_scripts` will not be listed."
   ]
  },
  {
   "cell_type": "code",
   "execution_count": 5,
   "metadata": {},
   "outputs": [
    {
     "data": {
      "text/plain": [
       "Imports\n",
       "os            3\n",
       "sys           3\n",
       "math          2\n",
       "matplotlib    1\n",
       "numpy         1\n",
       "re            1\n",
       "dtype: int64"
      ]
     },
     "execution_count": 5,
     "metadata": {},
     "output_type": "execute_result"
    }
   ],
   "source": [
    "plotter.get_frequencies()"
   ]
  },
  {
   "cell_type": "markdown",
   "metadata": {},
   "source": [
    "If you wish to include them back in your analysis, set the `exclude` argument to `False`."
   ]
  },
  {
   "cell_type": "code",
   "execution_count": 6,
   "metadata": {},
   "outputs": [
    {
     "data": {
      "text/plain": [
       "Imports\n",
       "os            3\n",
       "sys           3\n",
       "math          2\n",
       "matplotlib    1\n",
       "my_scripts    1\n",
       "numpy         1\n",
       "re            1\n",
       "dtype: int64"
      ]
     },
     "execution_count": 6,
     "metadata": {},
     "output_type": "execute_result"
    }
   ],
   "source": [
    "plotter.get_frequencies(exclude=False)"
   ]
  }
 ],
 "metadata": {
  "kernelspec": {
   "display_name": "ScanPyImports-04xEF54w",
   "language": "python",
   "name": "python3"
  },
  "language_info": {
   "codemirror_mode": {
    "name": "ipython",
    "version": 3
   },
   "file_extension": ".py",
   "mimetype": "text/x-python",
   "name": "python",
   "nbconvert_exporter": "python",
   "pygments_lexer": "ipython3",
   "version": "3.10.10"
  }
 },
 "nbformat": 4,
 "nbformat_minor": 2
}
